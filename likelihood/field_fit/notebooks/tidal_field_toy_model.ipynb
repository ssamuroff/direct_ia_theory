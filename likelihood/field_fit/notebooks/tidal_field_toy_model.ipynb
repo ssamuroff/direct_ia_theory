{
 "cells": [
  {
   "cell_type": "code",
   "execution_count": 1,
   "metadata": {},
   "outputs": [],
   "source": [
    "import numpy as np\n",
    "import sys\n",
    "import os\n",
    "import fitsio as fi\n",
    "import pylab as plt\n",
    "import numpy.fft as npf\n",
    "tidal_tensor = {}"
   ]
  },
  {
   "cell_type": "code",
   "execution_count": 2,
   "metadata": {},
   "outputs": [],
   "source": [
    "# set up a toy model box containing just a point mass (or, rather, a very small Gaussian) \n",
    "# in the middle\n",
    "nx = int(128)\n",
    "n0 = int(nx/2.)\n",
    "dens = np.zeros((nx,nx,nx))\n",
    "s = 1\n",
    "\n",
    "xx,yy,zz=np.meshgrid(np.arange(0,nx,1),np.arange(0,nx,1),np.arange(0,nx,1))\n",
    "G = 1e8 * np.exp(-((xx-n0)*(xx-n0)/2/s/s+(yy-n0)*(yy-n0)/2/s/s+(zz-n0)*(zz-n0)/2/s/s))\n",
    "\n",
    "#dens[n0,n0,n0]+=5000\n",
    "dens += G"
   ]
  },
  {
   "cell_type": "code",
   "execution_count": 3,
   "metadata": {
    "scrolled": true
   },
   "outputs": [
    {
     "data": {
      "image/png": "[encoded data removed]",
      "text/plain": [
       "<Figure size 432x288 with 1 Axes>"
      ]
     },
     "metadata": {},
     "output_type": "display_data"
    }
   ],
   "source": [
    "# plot it\n",
    "plt.imshow(dens[:,:,n0], interpolation='none')\n",
    "plt.show()"
   ]
  },
  {
   "cell_type": "code",
   "execution_count": 4,
   "metadata": {},
   "outputs": [],
   "source": [
    "# overdensity field\n",
    "K = np.mean(dens)\n",
    "d = dens/K -1 \n",
    "\n",
    "x = np.arange(-nx/2, nx/2,1)\n",
    "xx,yy,zz = np.meshgrid(x,x,x)\n",
    "R = x[n0+1:]\n",
    "\n",
    "Vpix = (300/nx)**3 # volume of a pixel in Mpc^3\n",
    "\n",
    "# mean density within a sphere of radius r\n",
    "rho_bar = np.array([2./3.*np.mean(G[((xx*xx+yy*yy+zz*zz)<r*r)]/Vpix) for r in R])\n",
    "# mean density at radius r\n",
    "rho = np.array([np.mean(G[((xx*xx+yy*yy+zz*zz)==r*r)]/Vpix) for r in R])\n",
    "\n",
    "T00 = (rho_bar-rho)/np.mean(G/Vpix)\n",
    "\n",
    "# T00 is the theory prediction for the 00 element \n",
    "# of the tidal field tensor due to a point mass\n",
    "# see https://arxiv.org/pdf/0705.3747.pdf eq 20"
   ]
  },
  {
   "cell_type": "code",
   "execution_count": 5,
   "metadata": {},
   "outputs": [
    {
     "name": "stdout",
     "output_type": "stream",
     "text": [
      "0 0\n"
     ]
    },
    {
     "name": "stderr",
     "output_type": "stream",
     "text": [
      "/opt/local/Library/Frameworks/Python.framework/Versions/3.6/lib/python3.6/site-packages/ipykernel_launcher.py:14: RuntimeWarning: invalid value encountered in true_divide\n",
      "  \n"
     ]
    },
    {
     "name": "stdout",
     "output_type": "stream",
     "text": [
      "0 1\n",
      "0 2\n",
      "1 0\n",
      "1 1\n",
      "1 2\n",
      "2 0\n",
      "2 1\n",
      "2 2\n"
     ]
    }
   ],
   "source": [
    "# set up some arrays for the tidal tensor\n",
    "k  = npf.fftfreq(nx)[np.mgrid[0:nx,0:nx,0:nx]]\n",
    "tidal_tensor[nx] = np.zeros((nx,nx,nx,3,3),dtype=np.float32)\n",
    "\n",
    "# FFT the box\n",
    "fft_dens = npf.fftn(d) \n",
    "\n",
    "# now compute the tidal tensor\n",
    "\n",
    "for i in range(3):\n",
    "    for j in range(3):\n",
    "        print(i,j)\n",
    "        # k[i], k[j] are 3D matrices\n",
    "        temp = fft_dens * k[i]*k[j]/(k[0]**2 + k[1]**2 + k[2]**2)\n",
    "        \n",
    "        # subtract off the trace...\n",
    "        if (i==j):\n",
    "            temp -= 1./3 * fft_dens\n",
    "        \n",
    "        temp[0,0,0] = 0\n",
    "        tidal_tensor[nx][:,:,:,i,j] = npf.ifftn(temp).real"
   ]
  },
  {
   "cell_type": "code",
   "execution_count": 6,
   "metadata": {},
   "outputs": [
    {
     "data": {
      "text/plain": [
       "Text(0, 0.5, '$S^{ii}(R)$')"
      ]
     },
     "execution_count": 6,
     "metadata": {},
     "output_type": "execute_result"
    },
    {
     "data": {
      "image/png": "[encoded data removed]",
      "text/plain": [
       "<Figure size 432x288 with 1 Axes>"
      ]
     },
     "metadata": {},
     "output_type": "display_data"
    }
   ],
   "source": [
    "\n",
    "L = 300./float(nx)\n",
    "x = np.arange(-nx/2, nx/2,1)\n",
    "\n",
    "plt.plot(x, 2*tidal_tensor[nx][n0,n0,:,0,0]*L, '*', color='darkmagenta', label=r'$2 \\times S^{22}$')\n",
    "plt.plot(x, 2*tidal_tensor[nx][n0,n0,:,1,1]*L, '.', color='pink', label=r'$2 \\times S^{11}$')\n",
    "plt.plot(x,  -tidal_tensor[nx][n0,n0,:,2,2]*L, '+', color='forestgreen', label='$-S^{00}$')\n",
    "\n",
    "#plt.plot(x,800000/x/x/x)\n",
    "plt.plot(R,T00*L, color='darkmagenta') # theory line from above\n",
    "\n",
    "#plt.xscale('log')\n",
    "plt.yscale('log')\n",
    "plt.ylim(1e0,2e5)\n",
    "plt.xlim(0,70)\n",
    "plt.legend()\n",
    "plt.xlabel('$R$ / pixels', fontsize=16)\n",
    "plt.ylabel('$S^{ii}(R)$', fontsize=16)"
   ]
  },
  {
   "cell_type": "code",
   "execution_count": 9,
   "metadata": {},
   "outputs": [
    {
     "name": "stdout",
     "output_type": "stream",
     "text": [
      "0 0\n"
     ]
    },
    {
     "name": "stderr",
     "output_type": "stream",
     "text": [
      "/opt/local/Library/Frameworks/Python.framework/Versions/3.6/lib/python3.6/site-packages/ipykernel_launcher.py:28: RuntimeWarning: invalid value encountered in true_divide\n"
     ]
    },
    {
     "name": "stdout",
     "output_type": "stream",
     "text": [
      "0 1\n",
      "0 2\n",
      "1 0\n",
      "1 1\n",
      "1 2\n",
      "2 0\n",
      "2 1\n",
      "2 2\n"
     ]
    }
   ],
   "source": [
    "# repeat all of the above with a different pixel scale (to demonstrate robustness)\n",
    "nx = int(256)\n",
    "n0 = int(nx/2.)\n",
    "dens = np.zeros((nx,nx,nx))\n",
    "s = 1\n",
    "\n",
    "xx,yy,zz=np.meshgrid(np.arange(0,nx,1),np.arange(0,nx,1),np.arange(0,nx,1))\n",
    "G = 1e8 * np.exp(-((xx-n0)*(xx-n0)/2/s/s+(yy-n0)*(yy-n0)/2/s/s+(zz-n0)*(zz-n0)/2/s/s))\n",
    "dens += G\n",
    "\n",
    "# overdensity field\n",
    "K = np.mean(dens)\n",
    "d = dens/K -1 \n",
    "\n",
    "# set up some arrays for the tidal tensor\n",
    "k  = npf.fftfreq(nx)[np.mgrid[0:nx,0:nx,0:nx]]\n",
    "tidal_tensor[nx] = np.zeros((nx,nx,nx,3,3),dtype=np.float32)\n",
    "\n",
    "# FFT the box\n",
    "fft_dens = npf.fftn(d) \n",
    "\n",
    "# now compute the tidal tensor\n",
    "\n",
    "for i in range(3):\n",
    "    for j in range(3):\n",
    "        print(i,j)\n",
    "        # k[i], k[j] are 3D matrices\n",
    "        temp = fft_dens * k[i]*k[j]/(k[0]**2 + k[1]**2 + k[2]**2)\n",
    "        \n",
    "        # subtract off the trace...\n",
    "        if (i==j):\n",
    "            temp -= 1./3 * fft_dens\n",
    "        \n",
    "        temp[0,0,0] = 0\n",
    "        tidal_tensor[nx][:,:,:,i,j] = npf.ifftn(temp).real\n",
    "        \n"
   ]
  },
  {
   "cell_type": "code",
   "execution_count": 22,
   "metadata": {},
   "outputs": [
    {
     "data": {
      "text/plain": [
       "Text(0, 0.5, '$S^{00}(R)$')"
      ]
     },
     "execution_count": 22,
     "metadata": {},
     "output_type": "execute_result"
    },
    {
     "data": {
      "image/png": "[encoded data removed]",
      "text/plain": [
       "<Figure size 432x288 with 1 Axes>"
      ]
     },
     "metadata": {},
     "output_type": "display_data"
    }
   ],
   "source": [
    "\n",
    "L0 = 300./float(128) # 300 Mpc / no. of pixels\n",
    "L1 = 300./float(256)\n",
    "\n",
    "plt.plot(np.arange(-128/2, 128/2,1)*L0, tidal_tensor[128][int(128/2),int(128/2),:,0,0],'*',color='darkmagenta', label='$n_{pix}=128$')\n",
    "plt.plot(np.arange(-256/2, 256/2,1)*L1, tidal_tensor[256][int(256/2),int(256/2),:,0,0],'.',color='pink', label='$n_{pix}=256$' )\n",
    "plt.yscale('log')\n",
    "#plt.xscale('log')\n",
    "plt.ylim(1e0,2e5)\n",
    "plt.xlim(1e-0,150)\n",
    "plt.legend()\n",
    "plt.xlabel('$R$ / Mpc', fontsize=16)\n",
    "plt.ylabel('$S^{00}(R)$', fontsize=16)"
   ]
  },
  {
   "cell_type": "code",
   "execution_count": null,
   "metadata": {},
   "outputs": [],
   "source": []
  }
 ],
 "metadata": {
  "kernelspec": {
   "display_name": "Python 3",
   "language": "python",
   "name": "python3"
  },
  "language_info": {
   "codemirror_mode": {
    "name": "ipython",
    "version": 3
   },
   "file_extension": ".py",
   "mimetype": "text/x-python",
   "name": "python",
   "nbconvert_exporter": "python",
   "pygments_lexer": "ipython3",
   "version": "3.6.8"
  }
 },
 "nbformat": 4,
 "nbformat_minor": 2
}
